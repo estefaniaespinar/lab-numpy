{
 "cells": [
  {
   "cell_type": "markdown",
   "metadata": {},
   "source": [
    "# Intrduction to NumPy\n",
    "\n",
    "\n",
    "#### 1. Import NumPy under the name np."
   ]
  },
  {
   "cell_type": "code",
   "execution_count": 87,
   "metadata": {},
   "outputs": [],
   "source": [
    "import numpy as np"
   ]
  },
  {
   "cell_type": "markdown",
   "metadata": {},
   "source": [
    "#### 2. Print your NumPy version."
   ]
  },
  {
   "cell_type": "code",
   "execution_count": 88,
   "metadata": {},
   "outputs": [
    {
     "data": {
      "text/plain": [
       "'1.13.3'"
      ]
     },
     "execution_count": 88,
     "metadata": {},
     "output_type": "execute_result"
    }
   ],
   "source": [
    "np.version.version"
   ]
  },
  {
   "cell_type": "markdown",
   "metadata": {},
   "source": [
    "#### 3. Generate a 2x3x5 3-dimensional array with random values. Assign the array to variable *a*.\n",
    "**Challenge**: there are at least three easy ways that use numpy to generate random arrays. How many ways can you find?"
   ]
  },
  {
   "cell_type": "code",
   "execution_count": 89,
   "metadata": {},
   "outputs": [
    {
     "data": {
      "text/plain": [
       "array([[[ 0.74673371,  0.10405383,  0.80145237,  0.1670101 ,  0.10438015],\n",
       "        [ 0.68091767,  0.72050423,  0.57419083,  0.14359684,  0.75814907],\n",
       "        [ 0.75542797,  0.8416727 ,  0.14685669,  0.45922057,  0.75452211]],\n",
       "\n",
       "       [[ 0.53752494,  0.56814284,  0.17899467,  0.32897482,  0.94347033],\n",
       "        [ 0.10931358,  0.33426764,  0.53477294,  0.34727462,  0.68310868],\n",
       "        [ 0.28648295,  0.77344843,  0.30013675,  0.62629396,  0.55790312]]])"
      ]
     },
     "execution_count": 89,
     "metadata": {},
     "output_type": "execute_result"
    }
   ],
   "source": [
    "a= np.random.rand(2,3,5)\n",
    "a"
   ]
  },
  {
   "cell_type": "code",
   "execution_count": 90,
   "metadata": {},
   "outputs": [
    {
     "data": {
      "text/plain": [
       "array([[[ 0.87317925,  0.04095879, -1.08084955, -0.71936059, -0.1539626 ],\n",
       "        [ 1.57461621, -1.38876601, -0.3609006 , -2.08876527,  0.55898116],\n",
       "        [ 1.43794712, -1.23227461, -0.36063878,  0.60451836, -0.22773721]],\n",
       "\n",
       "       [[-0.91888538,  2.10818674, -0.2845731 , -0.22061506,  0.32114129],\n",
       "        [ 0.18904829,  1.08271415, -2.06649292, -0.89038659,  0.16737014],\n",
       "        [ 1.84227904, -0.94659909, -0.712835  , -0.06121817, -0.34347242]]])"
      ]
     },
     "execution_count": 90,
     "metadata": {},
     "output_type": "execute_result"
    }
   ],
   "source": [
    "#normal distribution\n",
    "\n",
    "a_1 = np.random.normal(size=(2,3,5))\n",
    "a_1"
   ]
  },
  {
   "cell_type": "code",
   "execution_count": 91,
   "metadata": {},
   "outputs": [
    {
     "data": {
      "text/plain": [
       "array([[[ 0.69706786,  0.27829086,  0.09189281,  0.69579507,  0.1735012 ],\n",
       "        [ 0.18131531,  0.24599235,  0.71410817,  0.8441474 ,  0.21483724],\n",
       "        [ 0.64037013,  0.50334966,  0.99258212,  0.45573502,  0.48174314]],\n",
       "\n",
       "       [[ 0.29501221,  0.43981261,  0.38848772,  0.58955556,  0.53326019],\n",
       "        [ 0.95246936,  0.88008865,  0.35219536,  0.43242148,  0.33113089],\n",
       "        [ 0.78148517,  0.97788162,  0.56337401,  0.0156479 ,  0.93737207]]])"
      ]
     },
     "execution_count": 91,
     "metadata": {},
     "output_type": "execute_result"
    }
   ],
   "source": [
    "a_2= np.random.uniform(size=(2,3,5))\n",
    "a_2"
   ]
  },
  {
   "cell_type": "code",
   "execution_count": 92,
   "metadata": {},
   "outputs": [
    {
     "data": {
      "text/plain": [
       "array([[[ 0,  1,  2,  3,  4],\n",
       "        [ 5,  6,  7,  8,  9],\n",
       "        [10, 11, 12, 13, 14]],\n",
       "\n",
       "       [[15, 16, 17, 18, 19],\n",
       "        [20, 21, 22, 23, 24],\n",
       "        [25, 26, 27, 28, 29]]])"
      ]
     },
     "execution_count": 92,
     "metadata": {},
     "output_type": "execute_result"
    }
   ],
   "source": [
    "a_4 = np.arange(30).reshape(2,3,5)\n",
    "a_4"
   ]
  },
  {
   "cell_type": "markdown",
   "metadata": {},
   "source": [
    "#### 4. Print *a*.\n"
   ]
  },
  {
   "cell_type": "code",
   "execution_count": 93,
   "metadata": {},
   "outputs": [
    {
     "name": "stdout",
     "output_type": "stream",
     "text": [
      "[[[ 0.74673371  0.10405383  0.80145237  0.1670101   0.10438015]\n",
      "  [ 0.68091767  0.72050423  0.57419083  0.14359684  0.75814907]\n",
      "  [ 0.75542797  0.8416727   0.14685669  0.45922057  0.75452211]]\n",
      "\n",
      " [[ 0.53752494  0.56814284  0.17899467  0.32897482  0.94347033]\n",
      "  [ 0.10931358  0.33426764  0.53477294  0.34727462  0.68310868]\n",
      "  [ 0.28648295  0.77344843  0.30013675  0.62629396  0.55790312]]]\n"
     ]
    }
   ],
   "source": [
    "print(a)"
   ]
  },
  {
   "cell_type": "markdown",
   "metadata": {},
   "source": [
    "#### 5. Create a 5x2x3 3-dimensional array with all values equaling 1. Assign the array to variable *b*."
   ]
  },
  {
   "cell_type": "code",
   "execution_count": 94,
   "metadata": {},
   "outputs": [],
   "source": [
    "b=np.ones((5,2,3), dtype=np.int)"
   ]
  },
  {
   "cell_type": "markdown",
   "metadata": {},
   "source": [
    "#### 6. Print *b*.\n"
   ]
  },
  {
   "cell_type": "code",
   "execution_count": 95,
   "metadata": {},
   "outputs": [
    {
     "data": {
      "text/plain": [
       "array([[[1, 1, 1],\n",
       "        [1, 1, 1]],\n",
       "\n",
       "       [[1, 1, 1],\n",
       "        [1, 1, 1]],\n",
       "\n",
       "       [[1, 1, 1],\n",
       "        [1, 1, 1]],\n",
       "\n",
       "       [[1, 1, 1],\n",
       "        [1, 1, 1]],\n",
       "\n",
       "       [[1, 1, 1],\n",
       "        [1, 1, 1]]])"
      ]
     },
     "execution_count": 95,
     "metadata": {},
     "output_type": "execute_result"
    }
   ],
   "source": [
    "b"
   ]
  },
  {
   "cell_type": "markdown",
   "metadata": {},
   "source": [
    "#### 7. Do *a* and *b* have the same size? How do you prove that in Python code?"
   ]
  },
  {
   "cell_type": "code",
   "execution_count": 96,
   "metadata": {},
   "outputs": [
    {
     "data": {
      "text/plain": [
       "30"
      ]
     },
     "execution_count": 96,
     "metadata": {},
     "output_type": "execute_result"
    }
   ],
   "source": [
    "np.array(a).size"
   ]
  },
  {
   "cell_type": "code",
   "execution_count": 97,
   "metadata": {},
   "outputs": [
    {
     "data": {
      "text/plain": [
       "30"
      ]
     },
     "execution_count": 97,
     "metadata": {},
     "output_type": "execute_result"
    }
   ],
   "source": [
    "np.array(a).size"
   ]
  },
  {
   "cell_type": "code",
   "execution_count": 98,
   "metadata": {},
   "outputs": [
    {
     "data": {
      "text/plain": [
       "True"
      ]
     },
     "execution_count": 98,
     "metadata": {},
     "output_type": "execute_result"
    }
   ],
   "source": [
    "np.array(a).size==np.array(b).size"
   ]
  },
  {
   "cell_type": "code",
   "execution_count": 99,
   "metadata": {},
   "outputs": [
    {
     "data": {
      "text/plain": [
       "(5, 2, 3)"
      ]
     },
     "execution_count": 99,
     "metadata": {},
     "output_type": "execute_result"
    }
   ],
   "source": [
    "b.shape"
   ]
  },
  {
   "cell_type": "code",
   "execution_count": 100,
   "metadata": {},
   "outputs": [
    {
     "data": {
      "text/plain": [
       "(2, 3, 5)"
      ]
     },
     "execution_count": 100,
     "metadata": {},
     "output_type": "execute_result"
    }
   ],
   "source": [
    "a.shape"
   ]
  },
  {
   "cell_type": "markdown",
   "metadata": {},
   "source": [
    "#### 8. Are you able to add *a* and *b*? Why or why not?\n"
   ]
  },
  {
   "cell_type": "code",
   "execution_count": 101,
   "metadata": {},
   "outputs": [
    {
     "ename": "ValueError",
     "evalue": "operands could not be broadcast together with shapes (2,3,5) (5,2,3) ",
     "output_type": "error",
     "traceback": [
      "\u001b[0;31m---------------------------------------------------------------------------\u001b[0m",
      "\u001b[0;31mValueError\u001b[0m                                Traceback (most recent call last)",
      "\u001b[0;32m<ipython-input-101-108bc5c583b4>\u001b[0m in \u001b[0;36m<module>\u001b[0;34m()\u001b[0m\n\u001b[0;32m----> 1\u001b[0;31m \u001b[0mnp\u001b[0m\u001b[0;34m.\u001b[0m\u001b[0madd\u001b[0m\u001b[0;34m(\u001b[0m\u001b[0ma\u001b[0m\u001b[0;34m,\u001b[0m\u001b[0mb\u001b[0m\u001b[0;34m)\u001b[0m\u001b[0;34m\u001b[0m\u001b[0m\n\u001b[0m\u001b[1;32m      2\u001b[0m \u001b[0;31m#no because they have different shapes\u001b[0m\u001b[0;34m\u001b[0m\u001b[0;34m\u001b[0m\u001b[0m\n",
      "\u001b[0;31mValueError\u001b[0m: operands could not be broadcast together with shapes (2,3,5) (5,2,3) "
     ]
    }
   ],
   "source": [
    "np.add(a,b)\n",
    "#no because they have different shapes"
   ]
  },
  {
   "cell_type": "markdown",
   "metadata": {},
   "source": [
    "#### 9. Transpose *b* so that it has the same structure of *a* (i.e. become a 2x3x5 array). Assign the transposed array to variable *c*."
   ]
  },
  {
   "cell_type": "code",
   "execution_count": 102,
   "metadata": {},
   "outputs": [
    {
     "data": {
      "text/plain": [
       "array([[[1, 1, 1, 1, 1],\n",
       "        [1, 1, 1, 1, 1],\n",
       "        [1, 1, 1, 1, 1]],\n",
       "\n",
       "       [[1, 1, 1, 1, 1],\n",
       "        [1, 1, 1, 1, 1],\n",
       "        [1, 1, 1, 1, 1]]])"
      ]
     },
     "execution_count": 102,
     "metadata": {},
     "output_type": "execute_result"
    }
   ],
   "source": [
    "c= np.transpose((b),(1,2,0))\n",
    "c"
   ]
  },
  {
   "cell_type": "markdown",
   "metadata": {},
   "source": [
    "#### 10. Try to add *a* and *c*. Now it should work. Assign the sum to variable *d*. But why does it work now?"
   ]
  },
  {
   "cell_type": "code",
   "execution_count": 108,
   "metadata": {},
   "outputs": [],
   "source": [
    "d=np.add(a,c)"
   ]
  },
  {
   "cell_type": "markdown",
   "metadata": {},
   "source": [
    "#### 11. Print *a* and *d*. Notice the difference and relation of the two array in terms of the values? Explain."
   ]
  },
  {
   "cell_type": "code",
   "execution_count": 109,
   "metadata": {},
   "outputs": [
    {
     "name": "stdout",
     "output_type": "stream",
     "text": [
      "[[[ 0.74673371  0.10405383  0.80145237  0.1670101   0.10438015]\n",
      "  [ 0.68091767  0.72050423  0.57419083  0.14359684  0.75814907]\n",
      "  [ 0.75542797  0.8416727   0.14685669  0.45922057  0.75452211]]\n",
      "\n",
      " [[ 0.53752494  0.56814284  0.17899467  0.32897482  0.94347033]\n",
      "  [ 0.10931358  0.33426764  0.53477294  0.34727462  0.68310868]\n",
      "  [ 0.28648295  0.77344843  0.30013675  0.62629396  0.55790312]]]\n"
     ]
    }
   ],
   "source": [
    "print(a)"
   ]
  },
  {
   "cell_type": "code",
   "execution_count": 110,
   "metadata": {},
   "outputs": [
    {
     "name": "stdout",
     "output_type": "stream",
     "text": [
      "[[[ 1.74673371  1.10405383  1.80145237  1.1670101   1.10438015]\n",
      "  [ 1.68091767  1.72050423  1.57419083  1.14359684  1.75814907]\n",
      "  [ 1.75542797  1.8416727   1.14685669  1.45922057  1.75452211]]\n",
      "\n",
      " [[ 1.53752494  1.56814284  1.17899467  1.32897482  1.94347033]\n",
      "  [ 1.10931358  1.33426764  1.53477294  1.34727462  1.68310868]\n",
      "  [ 1.28648295  1.77344843  1.30013675  1.62629396  1.55790312]]]\n"
     ]
    }
   ],
   "source": [
    "print(d)\n",
    "#in d we sum up a and c values."
   ]
  },
  {
   "cell_type": "markdown",
   "metadata": {},
   "source": [
    "#### 12. Multiply *a* and *c*. Assign the result to *e*."
   ]
  },
  {
   "cell_type": "code",
   "execution_count": 112,
   "metadata": {},
   "outputs": [
    {
     "data": {
      "text/plain": [
       "array([[[ 0.74673371,  0.10405383,  0.80145237,  0.1670101 ,  0.10438015],\n",
       "        [ 0.68091767,  0.72050423,  0.57419083,  0.14359684,  0.75814907],\n",
       "        [ 0.75542797,  0.8416727 ,  0.14685669,  0.45922057,  0.75452211]],\n",
       "\n",
       "       [[ 0.53752494,  0.56814284,  0.17899467,  0.32897482,  0.94347033],\n",
       "        [ 0.10931358,  0.33426764,  0.53477294,  0.34727462,  0.68310868],\n",
       "        [ 0.28648295,  0.77344843,  0.30013675,  0.62629396,  0.55790312]]])"
      ]
     },
     "execution_count": 112,
     "metadata": {},
     "output_type": "execute_result"
    }
   ],
   "source": [
    "e=a*c\n",
    "e"
   ]
  },
  {
   "cell_type": "markdown",
   "metadata": {},
   "source": [
    "#### 13. Does *e* equal to *a*? Why or why not?\n"
   ]
  },
  {
   "cell_type": "code",
   "execution_count": null,
   "metadata": {
    "collapsed": true
   },
   "outputs": [],
   "source": [
    "#Yes cause c is one. A number * 1 = the number"
   ]
  },
  {
   "cell_type": "markdown",
   "metadata": {},
   "source": [
    "#### 14. Identify the max, min, and mean values in *d*. Assign those values to variables *d_max*, *d_min* and *d_mean*."
   ]
  },
  {
   "cell_type": "code",
   "execution_count": 125,
   "metadata": {},
   "outputs": [
    {
     "data": {
      "text/plain": [
       "1.9434703346050122"
      ]
     },
     "execution_count": 125,
     "metadata": {},
     "output_type": "execute_result"
    }
   ],
   "source": [
    "d_max=np.max(d)\n",
    "d_max"
   ]
  },
  {
   "cell_type": "code",
   "execution_count": 126,
   "metadata": {},
   "outputs": [
    {
     "data": {
      "text/plain": [
       "1.1040538255169132"
      ]
     },
     "execution_count": 126,
     "metadata": {},
     "output_type": "execute_result"
    }
   ],
   "source": [
    "d_min= np.min(d)\n",
    "d_min"
   ]
  },
  {
   "cell_type": "code",
   "execution_count": 127,
   "metadata": {},
   "outputs": [
    {
     "data": {
      "text/plain": [
       "1.4956266373353304"
      ]
     },
     "execution_count": 127,
     "metadata": {},
     "output_type": "execute_result"
    }
   ],
   "source": [
    "d_mean= np.mean(d)\n",
    "d_mean"
   ]
  },
  {
   "cell_type": "markdown",
   "metadata": {},
   "source": [
    "#### 15. Now we want to label the values in *d*. First create an empty array *f* with the same shape (i.e. 2x3x5) as *d* using `np.empty`.\n"
   ]
  },
  {
   "cell_type": "code",
   "execution_count": 118,
   "metadata": {},
   "outputs": [
    {
     "data": {
      "text/plain": [
       "array([[[ 0.74673371,  0.10405383,  0.80145237,  0.1670101 ,  0.10438015],\n",
       "        [ 0.68091767,  0.72050423,  0.57419083,  0.14359684,  0.75814907],\n",
       "        [ 0.75542797,  0.8416727 ,  0.14685669,  0.45922057,  0.75452211]],\n",
       "\n",
       "       [[ 0.53752494,  0.56814284,  0.17899467,  0.32897482,  0.94347033],\n",
       "        [ 0.10931358,  0.33426764,  0.53477294,  0.34727462,  0.68310868],\n",
       "        [ 0.28648295,  0.77344843,  0.30013675,  0.62629396,  0.55790312]]])"
      ]
     },
     "execution_count": 118,
     "metadata": {},
     "output_type": "execute_result"
    }
   ],
   "source": [
    "f=np.empty([2,3,5])\n",
    "f"
   ]
  },
  {
   "cell_type": "markdown",
   "metadata": {},
   "source": [
    "#### 16. Populate the values in *f*. \n",
    "\n",
    "For each value in *d*, if it's larger than *d_min* but smaller than *d_mean*, assign 25 to the corresponding value in *f*. If a value in *d* is larger than *d_mean* but smaller than *d_max*, assign 75 to the corresponding value in *f*. If a value equals to *d_mean*, assign 50 to the corresponding value in *f*. Assign 0 to the corresponding value(s) in *f* for *d_min* in *d*. Assign 100 to the corresponding value(s) in *f* for *d_max* in *d*. In the end, f should have only the following values: 0, 25, 50, 75, and 100.\n",
    "\n",
    "**Note**: you don't have to use Numpy in this question."
   ]
  },
  {
   "cell_type": "code",
   "execution_count": 136,
   "metadata": {},
   "outputs": [],
   "source": [
    "f_stg= []\n",
    "\n",
    "for x in d.flatten():\n",
    "    if x== d_min:\n",
    "        f_stg.append(0)\n",
    "    elif x == d_max:\n",
    "        f_stg.append(100)\n",
    "    elif x > d_min and x < d_mean:\n",
    "        f_stg.append(25)\n",
    "    elif x > d_mean and x< d_max:\n",
    "        f_stg.append(75)\n",
    "    elif x == d_mean:\n",
    "        f_stg.append(50)"
   ]
  },
  {
   "cell_type": "code",
   "execution_count": 138,
   "metadata": {},
   "outputs": [
    {
     "name": "stdout",
     "output_type": "stream",
     "text": [
      "[75, 0, 75, 25, 25, 75, 75, 75, 25, 75, 75, 75, 25, 25, 75, 75, 75, 25, 25, 100, 25, 25, 75, 25, 75, 25, 75, 25, 75, 75]\n"
     ]
    }
   ],
   "source": [
    "print(f_stg)"
   ]
  },
  {
   "cell_type": "code",
   "execution_count": 141,
   "metadata": {},
   "outputs": [
    {
     "data": {
      "text/plain": [
       "array([[[ 75,   0,  75,  25,  25],\n",
       "        [ 75,  75,  75,  25,  75],\n",
       "        [ 75,  75,  25,  25,  75]],\n",
       "\n",
       "       [[ 75,  75,  25,  25, 100],\n",
       "        [ 25,  25,  75,  25,  75],\n",
       "        [ 25,  75,  25,  75,  75]]])"
      ]
     },
     "execution_count": 141,
     "metadata": {},
     "output_type": "execute_result"
    }
   ],
   "source": [
    "f=np.array(f_stg).reshape((2,3,5))\n",
    "f"
   ]
  },
  {
   "cell_type": "markdown",
   "metadata": {},
   "source": [
    "#### 17. Print *d* and *f*. Do you have your expected *f*?\n",
    "For instance, if your *d* is:\n",
    "```python\n",
    "[[[1.85836099, 1.67064465, 1.62576044, 1.40243961, 1.88454931],\n",
    "[1.75354326, 1.69403643, 1.36729252, 1.61415071, 1.12104981],\n",
    "[1.72201435, 1.1862918 , 1.87078449, 1.7726778 , 1.88180042]],\n",
    "[[1.44747908, 1.31673383, 1.02000951, 1.52218947, 1.97066381],\n",
    "[1.79129243, 1.74983003, 1.96028037, 1.85166831, 1.65450881],\n",
    "[1.18068344, 1.9587381 , 1.00656599, 1.93402165, 1.73514584]]]\n",
    "```\n",
    "Your *f* should be:\n",
    "```python\n",
    "[[[ 75.,  75.,  75.,  25.,  75.],\n",
    "[ 75.,  75.,  25.,  25.,  25.],\n",
    "[ 75.,  25.,  75.,  75.,  75.]],\n",
    "[[ 25.,  25.,  25.,  25., 100.],\n",
    "[ 75.,  75.,  75.,  75.,  75.],\n",
    "[ 25.,  75.,   0.,  75.,  75.]]]\n",
    "```"
   ]
  },
  {
   "cell_type": "code",
   "execution_count": 142,
   "metadata": {},
   "outputs": [
    {
     "data": {
      "text/plain": [
       "array([[[ 1.74673371,  1.10405383,  1.80145237,  1.1670101 ,  1.10438015],\n",
       "        [ 1.68091767,  1.72050423,  1.57419083,  1.14359684,  1.75814907],\n",
       "        [ 1.75542797,  1.8416727 ,  1.14685669,  1.45922057,  1.75452211]],\n",
       "\n",
       "       [[ 1.53752494,  1.56814284,  1.17899467,  1.32897482,  1.94347033],\n",
       "        [ 1.10931358,  1.33426764,  1.53477294,  1.34727462,  1.68310868],\n",
       "        [ 1.28648295,  1.77344843,  1.30013675,  1.62629396,  1.55790312]]])"
      ]
     },
     "execution_count": 142,
     "metadata": {},
     "output_type": "execute_result"
    }
   ],
   "source": [
    "d"
   ]
  },
  {
   "cell_type": "code",
   "execution_count": 143,
   "metadata": {},
   "outputs": [
    {
     "data": {
      "text/plain": [
       "array([[[ 75,   0,  75,  25,  25],\n",
       "        [ 75,  75,  75,  25,  75],\n",
       "        [ 75,  75,  25,  25,  75]],\n",
       "\n",
       "       [[ 75,  75,  25,  25, 100],\n",
       "        [ 25,  25,  75,  25,  75],\n",
       "        [ 25,  75,  25,  75,  75]]])"
      ]
     },
     "execution_count": 143,
     "metadata": {},
     "output_type": "execute_result"
    }
   ],
   "source": [
    "f"
   ]
  },
  {
   "cell_type": "markdown",
   "metadata": {},
   "source": [
    "#### 18. Bonus question: instead of using numbers (i.e. 0, 25, 50, 75, and 100), use string values  (\"A\", \"B\", \"C\", \"D\", and \"E\") to label the array elements. For the example above, the expected result is:\n",
    "\n",
    "```python\n",
    "[[[ 'D',  'D',  'D',  'B',  'D'],\n",
    "[ 'D',  'D',  'B',  'B',  'B'],\n",
    "[ 'D',  'B',  'D',  'D',  'D']],\n",
    "[[ 'B',  'B',  'B',  'B',  'E'],\n",
    "[ 'D',  'D',  'D',  'D',  'D'],\n",
    "[ 'B',  'D',   'A',  'D', 'D']]]\n",
    "```\n",
    "**Note**: you don't have to use Numpy in this question."
   ]
  },
  {
   "cell_type": "code",
   "execution_count": 152,
   "metadata": {},
   "outputs": [
    {
     "name": "stdout",
     "output_type": "stream",
     "text": [
      "['D', 'A', 'D', 'B', 'B', 'D', 'D', 'D', 'B', 'D', 'D', 'D', 'B', 'B', 'D', 'D', 'D', 'B', 'B', 'E', 'B', 'B', 'D', 'B', 'D', 'B', 'D', 'B', 'D', 'D']\n"
     ]
    },
    {
     "data": {
      "text/plain": [
       "array([[['D', 'A', 'D', 'B', 'B'],\n",
       "        ['D', 'D', 'D', 'B', 'D'],\n",
       "        ['D', 'D', 'B', 'B', 'D']],\n",
       "\n",
       "       [['D', 'D', 'B', 'B', 'E'],\n",
       "        ['B', 'B', 'D', 'B', 'D'],\n",
       "        ['B', 'D', 'B', 'D', 'D']]],\n",
       "      dtype='<U1')"
      ]
     },
     "execution_count": 152,
     "metadata": {},
     "output_type": "execute_result"
    }
   ],
   "source": [
    "g=[] \n",
    "\n",
    "for x in d.flatten():\n",
    "    if x== d_min:\n",
    "        g.append(\"A\")\n",
    "    elif x == d_max:\n",
    "        g.append(\"E\")\n",
    "    elif x > d_min and x < d_mean:\n",
    "        g.append(\"B\")\n",
    "    elif x > d_mean and x< d_max:\n",
    "        g.append(\"D\")\n",
    "    elif x == d_mean:\n",
    "        g.append(\"C\")\n",
    "\n",
    "\n",
    "print(g)\n",
    "\n",
    "g=np.array(g).reshape((2,3,5))\n",
    "g"
   ]
  }
 ],
 "metadata": {
  "kernelspec": {
   "display_name": "Python 3",
   "language": "python",
   "name": "python3"
  },
  "language_info": {
   "codemirror_mode": {
    "name": "ipython",
    "version": 3
   },
   "file_extension": ".py",
   "mimetype": "text/x-python",
   "name": "python",
   "nbconvert_exporter": "python",
   "pygments_lexer": "ipython3",
   "version": "3.6.3"
  }
 },
 "nbformat": 4,
 "nbformat_minor": 2
}
